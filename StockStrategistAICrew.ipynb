{
  "nbformat": 4,
  "nbformat_minor": 0,
  "metadata": {
    "colab": {
      "provenance": [],
      "authorship_tag": "ABX9TyPZ419fDD529WWp5oVGMkwr",
      "include_colab_link": true
    },
    "kernelspec": {
      "name": "python3",
      "display_name": "Python 3"
    },
    "language_info": {
      "name": "python"
    }
  },
  "cells": [
    {
      "cell_type": "markdown",
      "metadata": {
        "id": "view-in-github",
        "colab_type": "text"
      },
      "source": [
        "<a href=\"https://colab.research.google.com/github/OmarSyedK/StockStrategistAI/blob/main/StockStrategistAICrew.ipynb\" target=\"_parent\"><img src=\"https://colab.research.google.com/assets/colab-badge.svg\" alt=\"Open In Colab\"/></a>"
      ]
    },
    {
      "cell_type": "markdown",
      "source": [
        "# 1. Installing Libraries\n"
      ],
      "metadata": {
        "id": "KEEUvPHMuICt"
      }
    },
    {
      "cell_type": "code",
      "execution_count": null,
      "metadata": {
        "id": "Lylfp_kguAi6"
      },
      "outputs": [],
      "source": [
        "!pip install crewai==0.28.8 crewai_tools==0.1.6 langchain_community==0.0.29"
      ]
    },
    {
      "cell_type": "code",
      "source": [
        "import warnings\n",
        "warnings.filterwarnings('ignore')"
      ],
      "metadata": {
        "id": "d__nUQs1KKyQ"
      },
      "execution_count": null,
      "outputs": []
    },
    {
      "cell_type": "code",
      "source": [
        "# Setting up API keys\n",
        "\n",
        "import os\n",
        "\n",
        "os.environ[\"OPENAI_API_KEY\"] = \"YOUR_OPENAI_API_KEY \"\n",
        "os.environ[\"SERPAPI_API_KEY\"] = \"YOUR_SERPER_API_KEY\"\n",
        "\n",
        "os.environ[\"OPENAI_MODEL_NAME\"]=\"gpt-4o-mini\"\n",
        "\n"
      ],
      "metadata": {
        "id": "SkQLaJfKKYTd"
      },
      "execution_count": null,
      "outputs": []
    },
    {
      "cell_type": "code",
      "source": [
        "# Collect User Inputs\n",
        "\n",
        "print(\"Please provide the following inputs to analytse your stock:\\n\")\n",
        "stock=input(\"Enter the stock you want to analyse(ex: AAPL, TSLA): \").strip().upper()\n",
        "initial_capital=float(input(\"Enter your initial capital(in USD): \"))\n",
        "risk_tolerance=input(\"Enter your risk tolerance(Low/Medium/High): \").strip().capitalize()\n",
        "trading_strategy=input(\"Enter your trading strategy preference(Day Trading/Swing Trading/Long term Investing): \").strip().capitalize()\n",
        "\n",
        "# Store inputs in a dictionary\n",
        "financial_trading_inputs={\n",
        "    \"stock\":stock,\n",
        "    \"initial_capital\":initial_capital,\n",
        "    \"risk_tolerance\":risk_tolerance,\n",
        "    \"trading_strategy\":trading_strategy\n",
        "}"
      ],
      "metadata": {
        "id": "1idEAwCKLmQi"
      },
      "execution_count": null,
      "outputs": []
    },
    {
      "cell_type": "code",
      "source": [
        "from crewai_tools import ScrapeWebsiteTool, SerperDevTool\n",
        "\n",
        "search_tool = SerperDevTool()\n",
        "scrape_tool = ScrapeWebsiteTool()"
      ],
      "metadata": {
        "id": "KZgLhWhKNFkr"
      },
      "execution_count": null,
      "outputs": []
    },
    {
      "cell_type": "markdown",
      "source": [],
      "metadata": {
        "id": "sKAbPsIfumgU"
      }
    },
    {
      "cell_type": "markdown",
      "source": [
        "# 2. Creating Agents"
      ],
      "metadata": {
        "id": "p2PnT6AMuepl"
      }
    },
    {
      "cell_type": "code",
      "source": [
        "from crewai import Agent\n",
        "# Stock Performance Analyst\n",
        "stock_performance_analyst = Agent(\n",
        "    role=\"Stock Performance Analyst\",\n",
        "    goal=f\"Analyze live market data for {financial_trading_inputs['stock']} and predict future performance for a {financial_trading_inputs['risk_tolerance']} risk tolerance and {financial_trading_inputs['initial_capital']} USD investment.\",\n",
        "    backstory=(\n",
        "        \"With over a decade of experience in financial markets, this agent specializes \"\n",
        "        \"in analyzing stock performance using advanced quantitative models. \"\n",
        "        \"It has a proven track record of identifying growth stocks and predicting \"\n",
        "        \"market trends with high accuracy. Its expertise lies in combining technical \"\n",
        "        \"analysis, fundamental analysis, and machine learning to deliver actionable insights.\"\n",
        "    ),\n",
        "    verbose=True,\n",
        "    allow_delegation=False,\n",
        "    tools=[search_tool, scrape_tool]\n",
        ")\n",
        "\n",
        "# Portfolio Risk Strategist\n",
        "portfolio_risk_strategist= Agent(\n",
        "    role=\"Portfolio Risk Strategist\",\n",
        "    goal=f\"Evaluate the risks associated with investing in {financial_trading_inputs['stock']} for a {financial_trading_inputs['risk_tolerance']} risk tolerance and recommend mitigation strategies.\",\n",
        "    backstory=(\n",
        "        \"A seasoned risk management expert, this agent has worked with top hedge funds \"\n",
        "        \"and investment banks. It specializes in identifying portfolio risks, conducting \"\n",
        "        \"stress tests, and developing risk mitigation strategies. Its expertise includes \"\n",
        "        \"Value at Risk (VaR) modeling, scenario analysis, and portfolio optimization.\"\n",
        "    ),\n",
        "    verbose=True,\n",
        "    allow_delegation=False,\n",
        "    tools=[search_tool, scrape_tool]\n",
        ")\n",
        "\n",
        "# Regulatory Compliance Officer\n",
        "regulatory_compliance_officer= Agent(\n",
        "    role=\"Regulatory Compliance Officer\",\n",
        "    goal=f\"Ensure {financial_trading_inputs['stock']} complies with all legal and regulatory standards.\",\n",
        "    backstory=(\n",
        "        \"This agent is a certified compliance professional with extensive knowledge of global \"\n",
        "        \"financial regulations, including SEC, FINRA, and MiFID II. It has a strong background \"\n",
        "        \"in auditing trading activities, ensuring adherence to compliance frameworks, and \"\n",
        "        \"preventing regulatory violations. Its meticulous approach ensures that all investments are legally sound.\"\n",
        "    ),\n",
        "    verbose=True,\n",
        "    allow_delegation=False,\n",
        "    tools=[search_tool, scrape_tool]\n",
        ")\n",
        "\n",
        "# Sentiment Analysis Specialist\n",
        "sentiment_analysis_specialist= Agent(\n",
        "    role=\"Sentiment Analysis Specialist\",\n",
        "    goal=f\"Analyze news, social media, and other textual data to gauge market sentiment for {financial_trading_inputs['stock']}. Consider news impact.\",\n",
        "    backstory=(\n",
        "        \"This agent is an expert in natural language processing (NLP) and sentiment analysis. \"\n",
        "        \"It has worked with leading financial institutions to analyze unstructured data \"\n",
        "        \"from news articles, social media, and earnings calls. Its ability to identify \"\n",
        "        \"sentiment shifts and predict market reactions makes it a valuable asset for decision-making.\"\n",
        "    ),\n",
        "    verbose=True,\n",
        "    allow_delegation=False,\n",
        "    tools=[search_tool, scrape_tool]\n",
        ")\n",
        "\n",
        "# Investment Decison Advisor\n",
        "investment_decision_advisor= Agent(\n",
        "    role=\"Investment Decision Advisor\",\n",
        "    goal=f\"Provide a final decision (Buy, Hold, or Sell) for {financial_trading_inputs['stock']} based on insights from all analysts. Consider a {financial_trading_inputs['risk_tolerance']} risk tolerance, {financial_trading_inputs['initial_capital']} USD investment, and trading strategy preference: {financial_trading_inputs['trading_strategy']}.\",\n",
        "    backstory=(\n",
        "        \"This agent is a senior investment advisor with over 15 years of experience in \"\n",
        "        \"portfolio management. It excels at synthesizing complex data from multiple \"\n",
        "        \"sources to make well-informed investment decisions. Its ability to balance risk \"\n",
        "        \"and reward, combined with a deep understanding of market dynamics, ensures that \"\n",
        "        \"its recommendations are both strategic and actionable.\"\n",
        "    ),\n",
        "    verbose=True,\n",
        "    allow_delegation=False\n",
        ")"
      ],
      "metadata": {
        "id": "TWZI5vUiNYCy"
      },
      "execution_count": null,
      "outputs": []
    },
    {
      "cell_type": "markdown",
      "source": [
        "# 3. Creating Tasks"
      ],
      "metadata": {
        "id": "1iyuHKw-uvAb"
      }
    },
    {
      "cell_type": "code",
      "source": [
        "from crewai import Task\n",
        "\n",
        "# Stock Performance Analyst Task\n",
        "stock_performance_task = Task(\n",
        "    description=(\n",
        "        f\"Analyze live market data for {financial_trading_inputs['stock']} using technical and fundamental analysis. \"\n",
        "        f\"Evaluate key performance indicators such as price trends, volume, moving averages, RSI, and financial metrics. \"\n",
        "        f\"Predict the stock’s future performance for a {financial_trading_inputs['risk_tolerance']} risk tolerance and {financial_trading_inputs['initial_capital']} USD investment.\"\n",
        "    ),\n",
        "    agent=stock_performance_analyst,\n",
        "    expected_output=(\n",
        "        f\"A detailed report on {financial_trading_inputs['stock']}'s performance, including: \"\n",
        "        \"- Current price trends and technical indicators. \"\n",
        "        \"- Growth potential based on fundamental analysis. \"\n",
        "        \"- Predictions for short-term, mid-term, and long-term performance.\"\n",
        "    ),\n",
        ")\n",
        "\n",
        "# Portfolio Risk Strategist\n",
        "risk_assessment_task = Task(\n",
        "    description=(\n",
        "        f\"Evaluate the risks associated with investing in {financial_trading_inputs['stock']}. \"\n",
        "        f\"Conduct stress tests, scenario analysis, and risk modeling for a {financial_trading_inputs['risk_tolerance']} risk tolerance. \"\n",
        "        \"Assess the stock’s volatility, liquidity, and exposure to market risks. \"\n",
        "        \"Provide a comprehensive risk assessment and recommend mitigation strategies.\"\n",
        "    ),\n",
        "    agent=portfolio_risk_strategist,\n",
        "    expected_output=(\n",
        "        f\"A risk assessment report for {financial_trading_inputs['stock']}, including: \"\n",
        "        \"- Identified risks (e.g., market risk, liquidity risk, regulatory risk). \"\n",
        "        \"- Stress test results and worst-case scenarios. \"\n",
        "        \"- Mitigation strategies (e.g., diversification, hedging).\"\n",
        "    ),\n",
        ")\n",
        "\n",
        "# Regulatory Compliance Officer\n",
        "compliance_check_task = Task(\n",
        "    description=(\n",
        "        f\"Ensure {financial_trading_inputs['stock']} complies with all legal and regulatory standards. \"\n",
        "        \"Audit the stock’s trading activities, financial disclosures, and corporate governance practices. \"\n",
        "        \"Check for any ongoing investigations or regulatory actions against the company.\"\n",
        "    ),\n",
        "    agent=regulatory_compliance_officer,\n",
        "    expected_output=(\n",
        "        f\"A compliance report for {financial_trading_inputs['stock']}, including: \"\n",
        "        \"- Regulatory adherence status. \"\n",
        "        \"- Any compliance issues or red flags. \"\n",
        "        \"- Recommendations for corrective actions (if needed).\"\n",
        "    ),\n",
        ")\n",
        "\n",
        "# Sentiment Analysis Specialist\n",
        "sentiment_analysis_task = Task(\n",
        "    description=(\n",
        "        f\"Analyze market sentiment for {financial_trading_inputs['stock']} using news articles, social media posts, and earnings call transcripts. \"\n",
        "        \"Consider news impact. \"\n",
        "        \"Use natural language processing (NLP) to identify sentiment trends (positive, negative, or neutral). \"\n",
        "        \"Gauge public perception and predict how sentiment might impact the stock’s performance.\"\n",
        "    ),\n",
        "    agent=sentiment_analysis_specialist,\n",
        "    expected_output=(\n",
        "        f\"A sentiment analysis report for {financial_trading_inputs['stock']}, including: \"\n",
        "        \"- Key sentiment trends (e.g., bullish, bearish). \"\n",
        "        \"- Public perception of recent events. \"\n",
        "        \"- Potential impact of sentiment on stock performance.\"\n",
        "    ),\n",
        ")\n",
        "\n",
        "# Investment Decision Advisor\n",
        "decision_task = Task(\n",
        "    description=(\n",
        "        f\"Provide a final decision (Buy, Hold, or Sell) for {financial_trading_inputs['stock']} based on insights from all analysts. \"\n",
        "        f\"Consider a {financial_trading_inputs['risk_tolerance']} risk tolerance, {financial_trading_inputs['initial_capital']} USD investment, and trading strategy preference: {financial_trading_inputs['trading_strategy']}. \"\n",
        "        \"Synthesize performance, risk, compliance, and sentiment analysis to make a well-informed recommendation.\"\n",
        "    ),\n",
        "    agent=investment_decision_advisor,\n",
        "    expected_output=(\n",
        "        f\"A final decision (Buy, Hold, or Sell) for {financial_trading_inputs['stock']}, including: \"\n",
        "        \"- Detailed reasoning for the decision. \"\n",
        "        \"- Supporting data from all analyses. \"\n",
        "        \"- Recommendations for next steps (e.g., entry/exit points, portfolio adjustments).\"\n",
        "    ),\n",
        ")"
      ],
      "metadata": {
        "id": "RYL3__qRTQ8l"
      },
      "execution_count": null,
      "outputs": []
    },
    {
      "cell_type": "markdown",
      "source": [
        "# 4. Defining and Running Crew"
      ],
      "metadata": {
        "id": "98PryUGmu2yC"
      }
    },
    {
      "cell_type": "code",
      "source": [
        "from IPython.display import display\n",
        "from crewai import Crew\n",
        "\n",
        "financial_trading_crew = Crew(\n",
        "    agents=[\n",
        "        stock_performance_analyst,\n",
        "        portfolio_risk_strategist,\n",
        "        regulatory_compliance_officer,\n",
        "        sentiment_analysis_specialist,\n",
        "        investment_decision_advisor\n",
        "    ],\n",
        "    tasks=[\n",
        "        stock_performance_task,\n",
        "        risk_assessment_task,\n",
        "        compliance_check_task,\n",
        "        sentiment_analysis_task,\n",
        "        decision_task\n",
        "    ],\n",
        "    verbose=True\n",
        ")\n",
        "\n",
        "result = financial_trading_crew.kickoff(inputs=financial_trading_inputs)\n",
        "if result:\n",
        "  display(Markdown(result))\n",
        "else:\n",
        "  print(\"Failed to generate the result\")"
      ],
      "metadata": {
        "id": "tTK-y2x_U_cX"
      },
      "execution_count": null,
      "outputs": []
    }
  ]
}